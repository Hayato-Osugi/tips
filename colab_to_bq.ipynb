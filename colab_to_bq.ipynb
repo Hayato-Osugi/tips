#  やりたいこと-----------------
# GoogleColabからBigQueryにデータをインポートする
# --------------------------------

# 実施手順---------------------
# 1.最新の契約者リストを出す
# 2.webログに紐づけてgclidを抽出
# 3.売上を出す
# 4.1～3をJOIN
# ------------------------------

# 更新履歴---------------------
# 2021/03/14 初版作成(杉元)
# ------------------------------

from google.colab import auth
auth.authenticate_user()

df.to_gbq({bq_dataset}.{bq_table}, {PROJECT_ID},if_exists='append')
